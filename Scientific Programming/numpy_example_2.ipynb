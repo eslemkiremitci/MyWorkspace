{
  "nbformat": 4,
  "nbformat_minor": 0,
  "metadata": {
    "colab": {
      "provenance": []
    },
    "kernelspec": {
      "name": "python3",
      "display_name": "Python 3"
    },
    "language_info": {
      "name": "python"
    }
  },
  "cells": [
    {
      "cell_type": "markdown",
      "source": [
        "Given an m$×$n matrix A and and 1$×$n vector v, subtract v from every row of A.\n",
        "\n",
        "---\n",
        "\n"
      ],
      "metadata": {
        "id": "oZki83Yr_HBm"
      }
    },
    {
      "cell_type": "code",
      "execution_count": 2,
      "metadata": {
        "colab": {
          "base_uri": "https://localhost:8080/"
        },
        "id": "5ql2EhNp_FUu",
        "outputId": "74d777d4-b0e6-44f7-f43f-f6adaac5a513"
      },
      "outputs": [
        {
          "output_type": "stream",
          "name": "stdout",
          "text": [
            "[[1. 1. 1. 1. 1.]\n",
            " [1. 1. 1. 1. 1.]\n",
            " [1. 1. 1. 1. 1.]\n",
            " [1. 1. 1. 1. 1.]\n",
            " [1. 1. 1. 1. 1.]]\n",
            "[0 1 2 3 4]\n",
            "[[ 1.  0. -1. -2. -3.]\n",
            " [ 1.  0. -1. -2. -3.]\n",
            " [ 1.  0. -1. -2. -3.]\n",
            " [ 1.  0. -1. -2. -3.]\n",
            " [ 1.  0. -1. -2. -3.]]\n"
          ]
        }
      ],
      "source": [
        "import numpy as np\n",
        "import numpy.matlib\n",
        "\n",
        "A = np.ones((5,5))\n",
        "B = np.zeros((5,5))\n",
        "C = np.zeros((5,5))\n",
        "D = np.zeros((5,5))\n",
        "v = np.arange(5)\n",
        "(m, n) = A.shape\n",
        "\n",
        "for i in range(m):\n",
        "  B[i,:] = A[i,:] - v\n",
        "\n",
        "C = A - np.matlib.repmat(v,5,1)\n",
        "\n",
        "D = A - v\n",
        "\n",
        "print(A)\n",
        "print(v)\n",
        "print(D)\n"
      ]
    },
    {
      "cell_type": "markdown",
      "source": [
        "Given an m × n matrix A, create a matrix B of the same size containing all zeros, and then copy into B the elements of A that are greater than zero"
      ],
      "metadata": {
        "id": "ZYlJEw-QEq4r"
      }
    },
    {
      "cell_type": "code",
      "source": [
        "A = np.array([[-1, 5, 4], [-4, 6, -9], [0, 2, -4]])\n",
        "(m, n) = A.shape\n",
        "B = np.zeros_like(A)\n",
        "C = np.zeros_like(A)\n",
        "\n",
        "for i in range(m):\n",
        "  for j in range(n):\n",
        "    if A[i, j] > 0:\n",
        "      B[i, j] = A[i, j]\n",
        "\n",
        "C[A>0] = A[A>0]\n",
        "\n",
        "print(A)\n",
        "print(C)"
      ],
      "metadata": {
        "colab": {
          "base_uri": "https://localhost:8080/"
        },
        "id": "Pn-nUPcJA447",
        "outputId": "a262f213-e60c-4eaf-8e08-3987e21dd0d1"
      },
      "execution_count": 3,
      "outputs": [
        {
          "output_type": "stream",
          "name": "stdout",
          "text": [
            "[[-1  5  4]\n",
            " [-4  6 -9]\n",
            " [ 0  2 -4]]\n",
            "[[0 5 4]\n",
            " [0 6 0]\n",
            " [0 2 0]]\n"
          ]
        }
      ]
    },
    {
      "cell_type": "markdown",
      "source": [
        "Given a 1$\\times$n vector v, create a vector w of the same size containing all zeros, sum up every two consecutive terms of v and then write into w"
      ],
      "metadata": {
        "id": "-Q937ZNRHpqB"
      }
    },
    {
      "cell_type": "code",
      "source": [
        "v = np.array([10, 30, 50, 40, 20])\n",
        "#             -   10  30  50  40\n",
        "w = np.zeros_like(v)\n",
        "u = np.zeros_like(v)\n",
        "n = v.size\n",
        "print(n)\n",
        "#        w = [40 80 90 60 0]\n",
        "for i in range(n-1):\n",
        "  w[i] = v[i] + v[i+1]\n",
        "print(w)\n",
        "\n",
        "u[:-1] = v[1:] + v[:-1]\n",
        "print(u)\n"
      ],
      "metadata": {
        "colab": {
          "base_uri": "https://localhost:8080/"
        },
        "id": "5xxHaOFBHqut",
        "outputId": "112b9943-97e8-47d0-ab6a-11b875bc282e"
      },
      "execution_count": 4,
      "outputs": [
        {
          "output_type": "stream",
          "name": "stdout",
          "text": [
            "5\n",
            "[40 80 90 60  0]\n",
            "[40 80 90 60  0]\n"
          ]
        }
      ]
    }
  ]
}